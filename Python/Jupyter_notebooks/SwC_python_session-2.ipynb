{
 "cells": [
  {
   "cell_type": "markdown",
   "metadata": {},
   "source": [
    "# Python session - 2\n",
    "\n",
    "## Flow Control statements\n",
    "\n",
    "Flow control statements allows Python to take a decision and do different things depending on different situations using `if` or `else` statements or `for` loops."
   ]
  },
  {
   "cell_type": "markdown",
   "metadata": {},
   "source": [
    "## if statements"
   ]
  },
  {
   "cell_type": "code",
   "execution_count": 6,
   "metadata": {
    "collapsed": false
   },
   "outputs": [
    {
     "name": "stdout",
     "output_type": "stream",
     "text": [
      "This line\n"
     ]
    }
   ],
   "source": [
    "# Indentation and semicolon\n",
    "\n",
    "print(\"This line\")\n",
    "\n",
    "temperature = 26\n",
    "\n",
    "if temperature < 50:\n",
    "    '' #indentation has a meaning, part of condition\n",
    "print(\"This is not too hot!\") #now this is not connected to the if statement"
   ]
  },
  {
   "cell_type": "code",
   "execution_count": 11,
   "metadata": {
    "collapsed": false
   },
   "outputs": [
    {
     "name": "stdout",
     "output_type": "stream",
     "text": [
      "This is not too hot!\n",
      "this is not >50\n"
     ]
    }
   ],
   "source": [
    "# Check if the temperature is > 25 (degrees)\n",
    "temperature = 26\n",
    "\n",
    "if temperature < 50:\n",
    "    print(\"This is not too hot!\")\n",
    "    \n",
    "if temperature > 50:\n",
    "    print(\"This is too hot!\")\n",
    "else:\n",
    "    print(\"this is not >50\")"
   ]
  },
  {
   "cell_type": "code",
   "execution_count": null,
   "metadata": {
    "collapsed": true
   },
   "outputs": [],
   "source": [
    "# Change value of the temperature and run it again"
   ]
  },
  {
   "cell_type": "markdown",
   "metadata": {},
   "source": [
    "## if/else statements"
   ]
  },
  {
   "cell_type": "code",
   "execution_count": 3,
   "metadata": {
    "collapsed": false
   },
   "outputs": [],
   "source": [
    "temperature = 20\n",
    "if ...:\n",
    "    ## do something\n",
    "else:\n",
    "    ## do something else"
   ]
  },
  {
   "cell_type": "markdown",
   "metadata": {},
   "source": [
    "### Multiple conditions can be given by introducing `elif` statement"
   ]
  },
  {
   "cell_type": "code",
   "execution_count": 16,
   "metadata": {
    "collapsed": false
   },
   "outputs": [
    {
     "name": "stdout",
     "output_type": "stream",
     "text": [
      "This is tolerable\n"
     ]
    }
   ],
   "source": [
    "temperature = 30\n",
    "\n",
    "if temperature > 25 and temperature < 35:\n",
    "    print('This is tolerable')\n",
    "elif temperature < 20:\n",
    "    print('Winter is coming')\n",
    "elif temperature == 20:\n",
    "    print('Temperature is 20')\n",
    "else:\n",
    "    print('this is not a temperature')"
   ]
  },
  {
   "cell_type": "markdown",
   "metadata": {},
   "source": [
    "## Exercise - 1\n",
    "\n",
    "We can interact with the commandline/terminal using `input()`, try it out by giving a value to the temperature on the commandline\n"
   ]
  },
  {
   "cell_type": "code",
   "execution_count": 19,
   "metadata": {
    "collapsed": false
   },
   "outputs": [
    {
     "name": "stdout",
     "output_type": "stream",
     "text": [
      "35\n"
     ]
    }
   ],
   "source": [
    "temperature = input()"
   ]
  },
  {
   "cell_type": "code",
   "execution_count": 20,
   "metadata": {
    "collapsed": false
   },
   "outputs": [
    {
     "name": "stdout",
     "output_type": "stream",
     "text": [
      "this is not a temperature\n"
     ]
    }
   ],
   "source": [
    "# Now use it in a block of code\n",
    "temperature = int(temperature)\n",
    "\n",
    "if temperature > 25 and temperature < 35:\n",
    "    print('This is tolerable')\n",
    "elif temperature < 20:\n",
    "    print('Winter is coming')\n",
    "elif temperature == 20:\n",
    "    print('Temperature is 20')\n",
    "else:\n",
    "    print('this is not a temperature')"
   ]
  },
  {
   "cell_type": "markdown",
   "metadata": {},
   "source": [
    "#### Adding even more conditions (conditions inside conditions)\n",
    "\n",
    "#### Option - 1: \n",
    "not so elegant nested if statements"
   ]
  },
  {
   "cell_type": "code",
   "execution_count": null,
   "metadata": {
    "collapsed": true
   },
   "outputs": [],
   "source": [
    "if ...:\n",
    "    if ...:\n",
    "        ...\n",
    "    elif ...:\n",
    "        ...\n",
    "    else ...:\n",
    "        ...\n",
    "elif ...:\n",
    "    if ...:\n",
    "        ...\n",
    "    elif ...:\n",
    "        ...\n",
    "    else ...:\n",
    "        ...\n",
    "elif ...:\n",
    "    ...\n",
    "else:\n",
    "    ..."
   ]
  },
  {
   "cell_type": "markdown",
   "metadata": {},
   "source": [
    "#### Option - 2: \n",
    "connecting conditions by Boolean (and, or, not)"
   ]
  },
  {
   "cell_type": "code",
   "execution_count": null,
   "metadata": {
    "collapsed": true
   },
   "outputs": [],
   "source": [
    "if ... and ...:\n",
    "    ...\n",
    "elif ...:\n",
    "    ...\n",
    "else:\n",
    "    ...\n"
   ]
  },
  {
   "cell_type": "code",
   "execution_count": 23,
   "metadata": {
    "collapsed": false
   },
   "outputs": [
    {
     "name": "stdout",
     "output_type": "stream",
     "text": [
      "This is tolerable\n",
      "This is tolerable\n"
     ]
    }
   ],
   "source": [
    "# Give temperature a value < 25 and check what happens if you replace 'and' with 'or'\n",
    "# Note: English's *or* and Python's *or* are not always same.\n",
    "\n",
    "temperature = 30\n",
    "\n",
    "if temperature > 25 and temperature < 35:\n",
    "    print('This is tolerable')\n",
    "    \n",
    "temperature1 = 35\n",
    "\n",
    "if temperature > 25 or temperature <= 35:\n",
    "    print('This is tolerable')"
   ]
  },
  {
   "cell_type": "markdown",
   "metadata": {},
   "source": [
    "## Exercise - 2\n"
   ]
  },
  {
   "cell_type": "code",
   "execution_count": null,
   "metadata": {
    "collapsed": true
   },
   "outputs": [],
   "source": [
    "# Check if a variable or data type for example, a list (my_list) exists (not empty)\n"
   ]
  },
  {
   "cell_type": "code",
   "execution_count": null,
   "metadata": {
    "collapsed": true
   },
   "outputs": [],
   "source": [
    "# Check if an item exists in a string (hint: look for my_item in my_string)...\n",
    "# else print \"{} does not contain {}\".format(my_string, my_item)\n",
    "\n",
    "my_string = \"Whether you're new to programming or an experienced developer, it's easy to learn and use Python.\"\n",
    "my_item = \"Python\""
   ]
  },
  {
   "cell_type": "code",
   "execution_count": null,
   "metadata": {
    "collapsed": true
   },
   "outputs": [],
   "source": [
    "# Check if an item 'does not' exist in a string (hint: look for my_item in my_string)...\n",
    "# else print \"{} contains {}\".format(my_string, my_item)\n",
    "\n",
    "my_string = \"Whether you're new to programming or an experienced developer, it's easy to learn and use Python.\"\n",
    "my_item = \"Perl\"\n"
   ]
  },
  {
   "cell_type": "markdown",
   "metadata": {},
   "source": [
    "#### Styling tip: annotate your codes so others can read and understand what your code is doing"
   ]
  },
  {
   "cell_type": "code",
   "execution_count": null,
   "metadata": {
    "collapsed": true
   },
   "outputs": [],
   "source": [
    "\"\"\" \n",
    "This is a Docstring. \n",
    "This script gives its opinion on weather.\n",
    "\"\"\"\n",
    "temperature = input()\n",
    "..."
   ]
  },
  {
   "cell_type": "markdown",
   "metadata": {},
   "source": [
    "## Exercise - 3"
   ]
  },
  {
   "cell_type": "code",
   "execution_count": null,
   "metadata": {
    "collapsed": true
   },
   "outputs": [],
   "source": [
    "# Given a list of items (shopping) check if a certain item (my_item) exists\n",
    "# else add that item to the list\n",
    "\n",
    "shopping = ['bread', 'potatoes', 'eggs', 'flour', 'rubber duck', 'pizza', 'milk']\n",
    "my_item = \"cheese\"\n"
   ]
  },
  {
   "cell_type": "markdown",
   "metadata": {},
   "source": [
    "## Exercise - 4 \n",
    "\n",
    "\n",
    "Make B.O.B (Basic Output Being) smarter by letting it differentiate 'yes' and 'no' and respond to the user accordingly.\n",
    "For example: if the answer to question2 is 'yes', then let B.O.B. help the user somehow, and if the answer is 'no', say goodbye already!"
   ]
  },
  {
   "cell_type": "code",
   "execution_count": null,
   "metadata": {
    "collapsed": true
   },
   "outputs": [],
   "source": [
    "hello = \"Hi Human, I am B.O.B. \"\n",
    "question1 = \"What is your name? \"\n",
    "response1 = \"Thats a lovely name! \"\n",
    "input(hello+question1)\n",
    "print(response1)\n",
    "\n",
    "answer_type = \"Please answer in 'yes' or 'no'. \"\n",
    "question2 = \"Can I help you? \"\n",
    "response2 = \"I am a computer, not a human. \"\n",
    "input(question2+answer_type)\n",
    "print(response2)\n",
    "\n",
    "question3 = \"Did you like that information? \"\n",
    "goodbye = \"Great. Goodbye! \"\n",
    "input(question3+answer_type)\n",
    "print(goodbye)"
   ]
  },
  {
   "cell_type": "markdown",
   "metadata": {},
   "source": [
    "## Exercise - 5\n",
    "\n",
    "Translate this flow chart into Python code.\n",
    "\n",
    "1. Start, get user's name\n",
    "2. check if the name is Rowan (if true, ask for password else print \"Access denied\")\n",
    "3. if the password is correct write 'welcome' else print 'incorrect'\n",
    "\n",
    "![if_flow_chart.png](flow_charts/if_flow_chart.png)\n",
    "\n",
    "Adapted from: http://usingpython.com/python-if-else-statements/"
   ]
  },
  {
   "cell_type": "code",
   "execution_count": null,
   "metadata": {
    "collapsed": true
   },
   "outputs": [],
   "source": [
    "#1. Start, get user's name\n",
    "\n",
    "#2. check if the name is Rowan (if true, ask for password else print \"Access denied\")\n",
    "\n",
    "#3. if the password is correct write 'welcome' else print 'incorrect'"
   ]
  },
  {
   "cell_type": "markdown",
   "metadata": {},
   "source": [
    "## For loop\n",
    "\n",
    "`for` loops or `for ... in ...` statement is the most powerful way to tackle the repeated tasks."
   ]
  },
  {
   "cell_type": "markdown",
   "metadata": {},
   "source": [
    "### Example - 1"
   ]
  },
  {
   "cell_type": "code",
   "execution_count": 27,
   "metadata": {
    "collapsed": false
   },
   "outputs": [
    {
     "name": "stdout",
     "output_type": "stream",
     "text": [
      "1\n",
      "2\n",
      "3\n",
      "4\n"
     ]
    }
   ],
   "source": [
    "#use range to create a list of values\n",
    "\n",
    "#print(list(range(1,5)))\n",
    "\n",
    "for entry in range(1,5):\n",
    "    print(entry)\n",
    "    # do some calculation with each entry and print it"
   ]
  },
  {
   "cell_type": "markdown",
   "metadata": {},
   "source": [
    "### Example - 2"
   ]
  },
  {
   "cell_type": "code",
   "execution_count": 36,
   "metadata": {
    "collapsed": false
   },
   "outputs": [
    {
     "name": "stdout",
     "output_type": "stream",
     "text": [
      "bread\n",
      "potatoes\n",
      "eggs\n",
      "flour\n",
      "bread\n",
      "potatoes\n",
      "eggs\n",
      "flour\n",
      "rubber duck\n",
      "pizza\n",
      "milk\n"
     ]
    }
   ],
   "source": [
    "shopping = ['bread', 'potatoes', \n",
    "            'eggs', 'flour', \n",
    "            'rubber duck', 'pizza', \n",
    "            'milk']\n",
    "# iterate through the list and print each item\n",
    "\n",
    "# print(shopping[0])\n",
    "# print(shopping[1])\n",
    "# print(shopping[2])\n",
    "# print(shopping[3])\n",
    "\n",
    "for item_could_be_anything in shopping:\n",
    "    print(item_could_be_anything)"
   ]
  },
  {
   "cell_type": "markdown",
   "metadata": {},
   "source": [
    "### Example - 3"
   ]
  },
  {
   "cell_type": "code",
   "execution_count": 50,
   "metadata": {
    "collapsed": false
   },
   "outputs": [
    {
     "name": "stdout",
     "output_type": "stream",
     "text": [
      "bread\n",
      "potatoes\n",
      "eggs\n",
      "flour\n",
      "rubber duck\n",
      "pizza\n",
      "milk\n",
      "item-0 bread\n",
      "item-1 potatoes\n",
      "item-2 eggs\n",
      "item-3 flour\n",
      "item-4 rubber duck\n",
      "item-5 pizza\n",
      "item-6 milk\n"
     ]
    }
   ],
   "source": [
    "shopping_dict = {'item-0': 'bread', 'item-1': 'potatoes', \n",
    "                 'item-2': 'eggs', 'item-3': 'flour', \n",
    "                 'item-4': 'rubber duck', 'item-5': 'pizza', \n",
    "                 'item-6': 'milk'}\n",
    "\n",
    "#shopping_dict['item-2']\n",
    "# iterate through each key and print its value\n",
    "\n",
    "# for each_entry in shopping_dict:\n",
    "#     print(shopping_dict[each_entry])\n",
    "\n",
    "# for each_entry in shopping_dict:\n",
    "#     print(shopping_dict[each_entry])\n",
    "    \n",
    "# for each_entry in shopping_dict.keys():\n",
    "#     print(shopping_dict[each_entry])\n",
    "\n",
    "# for each_entry in shopping_dict.values():\n",
    "#     print(each_entry)\n",
    "\n",
    "# for each_entry in shopping_dict.items():\n",
    "#     print(each_entry[1])\n",
    "    \n",
    "for keyname, value in shopping_dict.items():\n",
    "    print(keyname, value)\n",
    "\n",
    "# print(shopping_dict.keys())\n",
    "# print(shopping_dict.values())\n",
    "# print(shopping_dict.items())\n",
    "\n"
   ]
  },
  {
   "cell_type": "markdown",
   "metadata": {},
   "source": [
    "### Example - 4"
   ]
  },
  {
   "cell_type": "code",
   "execution_count": null,
   "metadata": {
    "collapsed": true
   },
   "outputs": [],
   "source": [
    "shopping = ['bread', 'potatoes', \n",
    "            'eggs', 'flour', \n",
    "            'rubber duck', 'pizza', \n",
    "            'milk']\n",
    "extrashopping = ['cheese', 'flour', \n",
    "                 'eggs', 'spaghetti', \n",
    "                 'sausages', 'bread']\n",
    "# iterate through each item in the list extrashopping \n",
    "# if it is not in the list shopping then add it\n",
    "# print the new list shopping\n"
   ]
  },
  {
   "cell_type": "markdown",
   "metadata": {},
   "source": [
    "## Example - 5"
   ]
  },
  {
   "cell_type": "code",
   "execution_count": null,
   "metadata": {
    "collapsed": true
   },
   "outputs": [],
   "source": [
    "shopping = ['bread', 'potatoes', \n",
    "            'eggs', 'flour', \n",
    "            'rubber duck', 'pizza', \n",
    "            'milk']\n",
    "extrashopping = ['cheese', 'flour', \n",
    "                 'eggs', 'spaghetti', \n",
    "                 'sausages', 'bread']\n",
    "\n",
    "# Combining lists\n",
    "all_items = shopping + extrashopping\n",
    "\n",
    "# remove redundancy using set()\n",
    "unique_items = set(all_items)\n",
    "\n",
    "# iterate through unique_items and print each item\n",
    "...\n"
   ]
  },
  {
   "cell_type": "markdown",
   "metadata": {},
   "source": [
    "## Exercise - 6"
   ]
  },
  {
   "cell_type": "code",
   "execution_count": null,
   "metadata": {
    "collapsed": true
   },
   "outputs": [],
   "source": [
    "# (i) Change the program above to print out a message when a duplicate item is found. \n",
    "# To do this, you could add another if statement to see if the item is in the list. \n",
    "# Alternatively, you can add an else: clause to the existing if statement. \n",
    "# This will be executed when the condition in the if statement is false.\n"
   ]
  },
  {
   "cell_type": "markdown",
   "metadata": {},
   "source": [
    "(ii) The example illustrated above is not the only solution to adding items to a list, whilst checking for duplicates. From the three choices below, choose the version that would achieve the same goal:\n",
    "\n",
    "a)\n",
    "\n",
    "```\n",
    "shopping = ['bread', 'potatoes', \n",
    "            'eggs', 'flour', \n",
    "            'rubber duck', 'pizza', \n",
    "            'milk']\n",
    "extrashopping = ['cheese', 'flour', \n",
    "                 'eggs', 'spaghetti', \n",
    "                 'sausages', 'bread']\n",
    "for item in extrashopping:\n",
    "    if item not in shopping:   \n",
    "        print(item, \"is already in the list.\")\n",
    "    else: \n",
    "        shopping.append(item)\n",
    "print(shopping)\n",
    "```\n",
    "\n",
    "b)\n",
    "\n",
    "```\n",
    "shopping = ['bread', 'potatoes', \n",
    "            'eggs', 'flour', \n",
    "            'rubber duck', 'pizza', \n",
    "            'milk']\n",
    "extrashopping = ['cheese', 'flour', \n",
    "                 'eggs', 'spaghetti', \n",
    "                 'sausages', 'bread']\n",
    "for item in extrashopping:\n",
    "    if item in shopping:\n",
    "        shopping.append(item)\n",
    "    else: \n",
    "        print(item, \"is already in the list.\")\n",
    "print(shopping)\n",
    "```\n",
    "\n",
    "c)\n",
    "\n",
    "```\n",
    "shopping = ['bread', 'potatoes', \n",
    "            'eggs', 'flour', \n",
    "            'rubber duck', 'pizza', \n",
    "            'milk']\n",
    "extrashopping = ['cheese', 'flour', \n",
    "                 'eggs', 'spaghetti', \n",
    "                 'sausages', 'bread']\n",
    "for item in extrashopping:\n",
    "    if item in shopping:\n",
    "        print(item, \"is already in the list.\")\n",
    "    else: \n",
    "        shopping.append(item)\n",
    "print(shopping)\n",
    "```"
   ]
  },
  {
   "cell_type": "markdown",
   "metadata": {
    "collapsed": true
   },
   "source": [
    "## Exercise - 7 "
   ]
  },
  {
   "cell_type": "code",
   "execution_count": null,
   "metadata": {
    "collapsed": true
   },
   "outputs": [],
   "source": [
    "''' In the example below, we have changed the program so it prints out a formatted message \n",
    "for each of the items in the shopping list along with the amount that needs to be bought \n",
    "of that item. Parts of the program are missing. You need to fill them in '''\n",
    "\n",
    "shopping = ['bread', 'potatoes', 'eggs', 'flour', 'rubber duck', 'pizza', 'milk']\n",
    "amounts = ['1', '10', '12', '1', '2', '5', '1']\n",
    "--- i in range(len(---)):\n",
    "    s = 'I need to buy --- ---'.format(amounts[---], ---[i])\n",
    "    print(---)"
   ]
  }
 ],
 "metadata": {
  "kernelspec": {
   "display_name": "Python 3",
   "language": "python",
   "name": "python3"
  },
  "language_info": {
   "codemirror_mode": {
    "name": "ipython",
    "version": 3
   },
   "file_extension": ".py",
   "mimetype": "text/x-python",
   "name": "python",
   "nbconvert_exporter": "python",
   "pygments_lexer": "ipython3",
   "version": "3.6.0"
  }
 },
 "nbformat": 4,
 "nbformat_minor": 0
}
